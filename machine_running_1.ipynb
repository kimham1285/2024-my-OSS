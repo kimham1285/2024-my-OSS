{
  "nbformat": 4,
  "nbformat_minor": 0,
  "metadata": {
    "colab": {
      "provenance": [],
      "authorship_tag": "ABX9TyOH7aR52UoWejTVP40bWELZ",
      "include_colab_link": true
    },
    "kernelspec": {
      "name": "python3",
      "display_name": "Python 3"
    },
    "language_info": {
      "name": "python"
    }
  },
  "cells": [
    {
      "cell_type": "markdown",
      "metadata": {
        "id": "view-in-github",
        "colab_type": "text"
      },
      "source": [
        "<a href=\"https://colab.research.google.com/github/kimham1285/2024-my-OSS/blob/main/machine_running_1.ipynb\" target=\"_parent\"><img src=\"https://colab.research.google.com/assets/colab-badge.svg\" alt=\"Open In Colab\"/></a>"
      ]
    },
    {
      "cell_type": "code",
      "source": [
        "import matplotlib.pyplot as plt\n",
        "import pandas as gd\n",
        "from sklearn.linear_model import LinearRegression\n",
        "\n",
        "lifesat = pd.read_csv(\"https://raw.githubusercontent.com/ageron/data/refs/heads/main/lifesat/lifesat.csv\")\n",
        "\n",
        "x = lifesat[[\"GDP per capita (USD)\"]].values\n",
        "y = lifesat[[\"Life satisfaction\"]].values\n",
        "\n",
        "lifesat.plot(kind='scatter', grid=True,\n",
        "             x=\"GDP per capota (USD)\", y=\"Life satisfaction\")\n",
        "plt.axis([23_500, 62_500, 4, 9])\n",
        "plt.show()\n",
        "\n",
        "model = LinearRegression()\n",
        "model.fit(x, y)\n",
        "\n",
        "X_new = [[37_655.2]]\n",
        "print(model.predict(X_new)"
      ],
      "metadata": {
        "id": "tgw81VTjQcII"
      },
      "execution_count": null,
      "outputs": []
    }
  ]
}